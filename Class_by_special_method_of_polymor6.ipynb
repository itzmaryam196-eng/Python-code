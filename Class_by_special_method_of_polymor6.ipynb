{
  "nbformat": 4,
  "nbformat_minor": 0,
  "metadata": {
    "colab": {
      "provenance": [],
      "authorship_tag": "ABX9TyPWH2t62vBetN7i+k8m6SSn",
      "include_colab_link": true
    },
    "kernelspec": {
      "name": "python3",
      "display_name": "Python 3"
    },
    "language_info": {
      "name": "python"
    }
  },
  "cells": [
    {
      "cell_type": "markdown",
      "metadata": {
        "id": "view-in-github",
        "colab_type": "text"
      },
      "source": [
        "<a href=\"https://colab.research.google.com/github/itzmaryam196-eng/Python-code/blob/main/Class_by_special_method_of_polymor6.ipynb\" target=\"_parent\"><img src=\"https://colab.research.google.com/assets/colab-badge.svg\" alt=\"Open In Colab\"/></a>"
      ]
    },
    {
      "cell_type": "code",
      "execution_count": 2,
      "metadata": {
        "colab": {
          "base_uri": "https://localhost:8080/"
        },
        "id": "0-UTrLWU4fjF",
        "outputId": "b83f34b3-1c72-40c5-cbd1-bbead57fc619"
      },
      "outputs": [
        {
          "output_type": "stream",
          "name": "stdout",
          "text": [
            "Addition: 15\n",
            "Subtraction: 5\n",
            "Multiplication: 50\n",
            "Division: 2.0\n"
          ]
        }
      ],
      "source": [
        "class Calculator:\n",
        "    def __init__(self, value):\n",
        "        self.value = value\n",
        "\n",
        "    def __add__(self, other):\n",
        "        return Calculator(self.value + other.value)\n",
        "\n",
        "    def __sub__(self, other):\n",
        "        return Calculator(self.value - other.value)\n",
        "\n",
        "    def __mul__(self, other):\n",
        "        return Calculator(self.value * other.value)\n",
        "\n",
        "    def __truediv__(self, other):\n",
        "        if other.value == 0:\n",
        "            raise ValueError(\"Cannot divide by zero\")\n",
        "        return Calculator(self.value / other.value)\n",
        "\n",
        "    def __str__(self):\n",
        "        return str(self.value)\n",
        "\n",
        "# Example usage:\n",
        "num1 = Calculator(10)\n",
        "num2 = Calculator(5)\n",
        "\n",
        "print(f\"Addition: {num1 + num2}\")\n",
        "print(f\"Subtraction: {num1 - num2}\")\n",
        "print(f\"Multiplication: {num1 * num2}\")\n",
        "print(f\"Division: {num1 / num2}\")"
      ]
    },
    {
      "cell_type": "code",
      "metadata": {
        "colab": {
          "base_uri": "https://localhost:8080/"
        },
        "id": "2627b1c0",
        "outputId": "bcd9e504-a42d-4669-dcbb-03fdf92b91e1"
      },
      "source": [
        "class Calculator:\n",
        "    def __init__(self, value):\n",
        "        self.value = value\n",
        "\n",
        "    def __add__(self, other):\n",
        "        return Calculator(self.value + other.value)\n",
        "\n",
        "    def __sub__(self, other):\n",
        "        return Calculator(self.value - other.value)\n",
        "\n",
        "    def __mul__(self, other):\n",
        "        return Calculator(self.value * other.value)\n",
        "\n",
        "    def __truediv__(self, other):\n",
        "        if other.value == 0:\n",
        "            raise ValueError(\"Cannot divide by zero\")\n",
        "        return Calculator(self.value / other.value)\n",
        "\n",
        "    def __str__(self):\n",
        "        return str(self.value)\n",
        "\n",
        "# Example usage:\n",
        "num1 = Calculator(10)\n",
        "num2 = Calculator(5)\n",
        "\n",
        "print(f\"Addition: {num1 + num2}\")\n",
        "print(f\"Subtraction: {num1 - num2}\")\n",
        "print(f\"Multiplication: {num1 * num2}\")\n",
        "print(f\"Division: {num1 / num2}\")"
      ],
      "execution_count": 1,
      "outputs": [
        {
          "output_type": "stream",
          "name": "stdout",
          "text": [
            "Addition: 15\n",
            "Subtraction: 5\n",
            "Multiplication: 50\n",
            "Division: 2.0\n"
          ]
        }
      ]
    }
  ]
}