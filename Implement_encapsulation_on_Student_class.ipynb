{
  "nbformat": 4,
  "nbformat_minor": 0,
  "metadata": {
    "colab": {
      "provenance": [],
      "authorship_tag": "ABX9TyOPIAS/LF9mEm1X3y61OQPf",
      "include_colab_link": true
    },
    "kernelspec": {
      "name": "python3",
      "display_name": "Python 3"
    },
    "language_info": {
      "name": "python"
    }
  },
  "cells": [
    {
      "cell_type": "markdown",
      "metadata": {
        "id": "view-in-github",
        "colab_type": "text"
      },
      "source": [
        "<a href=\"https://colab.research.google.com/github/itzmaryam196-eng/Python-code/blob/main/Implement_encapsulation_on_Student_class.ipynb\" target=\"_parent\"><img src=\"https://colab.research.google.com/assets/colab-badge.svg\" alt=\"Open In Colab\"/></a>"
      ]
    },
    {
      "cell_type": "code",
      "execution_count": null,
      "metadata": {
        "id": "aRLittPc3X6a"
      },
      "outputs": [],
      "source": [
        "class Student:\n",
        "    def __init__(self, name, age):\n",
        "        # Private attributes using double underscore\n",
        "        self.__name = name\n",
        "        self.__age = age\n",
        "\n",
        "    # Getter method for name\n",
        "    def get_name(self):\n",
        "        return self.__name\n",
        "\n",
        "    # Setter method for name\n",
        "    def set_name(self, name):\n",
        "        if isinstance(name, str) and len(name) > 0:\n",
        "            self.__name = name\n",
        "        else:\n",
        "            print(\"Invalid name. Name must be a non-empty string.\")\n",
        "\n",
        "    # Getter method for age\n",
        "    def get_age(self):\n",
        "        return self.__age\n",
        "\n",
        "    # Setter method for age\n",
        "    def set_age(self, age):\n",
        "        if isinstance(age, int) and age > 0:\n",
        "            self.__age = age\n",
        "        else:\n",
        "            print(\"Invalid age. Age must be a positive integer.\")\n",
        "\n",
        "# Example usage:\n",
        "student1 = Student(\"Alice\", 20)\n",
        "\n",
        "# Accessing attributes using getter methods\n",
        "print(f\"Name: {student1.get_name()}\")\n",
        "print(f\"Age: {student1.get_age()}\")\n",
        "\n",
        "# Modifying attributes using setter methods\n",
        "student1.set_age(21)\n",
        "print(f\"Updated Age: {student1.get_age()}\")\n",
        "\n",
        "# Attempting to set an invalid age\n",
        "student1.set_age(-5)\n",
        "\n",
        "# Attempting to access private attributes directly (will result in an AttributeError)\n",
        "# print(student1.__name)"
      ]
    },
    {
      "cell_type": "code",
      "metadata": {
        "colab": {
          "base_uri": "https://localhost:8080/"
        },
        "id": "e0e0f6ee",
        "outputId": "3af99341-7a59-496f-c9ff-f3f35cfeb3c7"
      },
      "source": [
        "class Student:\n",
        "    def __init__(self, name, age):\n",
        "        # Private attributes using double underscore\n",
        "        self.__name = name\n",
        "        self.__age = age\n",
        "\n",
        "    # Getter method for name\n",
        "    def get_name(self):\n",
        "        return self.__name\n",
        "\n",
        "    # Setter method for name\n",
        "    def set_name(self, name):\n",
        "        if isinstance(name, str) and len(name) > 0:\n",
        "            self.__name = name\n",
        "        else:\n",
        "            print(\"Invalid name. Name must be a non-empty string.\")\n",
        "\n",
        "    # Getter method for age\n",
        "    def get_age(self):\n",
        "        return self.__age\n",
        "\n",
        "    # Setter method for age\n",
        "    def set_age(self, age):\n",
        "        if isinstance(age, int) and age > 0:\n",
        "            self.__age = age\n",
        "        else:\n",
        "            print(\"Invalid age. Age must be a positive integer.\")\n",
        "\n",
        "# Example usage:\n",
        "student1 = Student(\"Alice\", 20)\n",
        "\n",
        "# Accessing attributes using getter methods\n",
        "print(f\"Name: {student1.get_name()}\")\n",
        "print(f\"Age: {student1.get_age()}\")\n",
        "\n",
        "# Modifying attributes using setter methods\n",
        "student1.set_age(21)\n",
        "print(f\"Updated Age: {student1.get_age()}\")\n",
        "\n",
        "# Attempting to set an invalid age\n",
        "student1.set_age(-5)\n",
        "\n",
        "# Attempting to access private attributes directly (will result in an AttributeError)\n",
        "# print(student1.__name)"
      ],
      "execution_count": 1,
      "outputs": [
        {
          "output_type": "stream",
          "name": "stdout",
          "text": [
            "Name: Alice\n",
            "Age: 20\n",
            "Updated Age: 21\n",
            "Invalid age. Age must be a positive integer.\n"
          ]
        }
      ]
    }
  ]
}