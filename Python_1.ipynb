{
  "nbformat": 4,
  "nbformat_minor": 0,
  "metadata": {
    "colab": {
      "provenance": [],
      "authorship_tag": "ABX9TyM2HatGff4hna4SxwXLw8L5",
      "include_colab_link": true
    },
    "kernelspec": {
      "name": "python3",
      "display_name": "Python 3"
    },
    "language_info": {
      "name": "python"
    }
  },
  "cells": [
    {
      "cell_type": "markdown",
      "metadata": {
        "id": "view-in-github",
        "colab_type": "text"
      },
      "source": [
        "<a href=\"https://colab.research.google.com/github/itzmaryam196-eng/Python-code/blob/main/Python_1.ipynb\" target=\"_parent\"><img src=\"https://colab.research.google.com/assets/colab-badge.svg\" alt=\"Open In Colab\"/></a>"
      ]
    },
    {
      "cell_type": "code",
      "execution_count": null,
      "metadata": {
        "colab": {
          "base_uri": "https://localhost:8080/"
        },
        "id": "d1go8DB1Ow-1",
        "outputId": "295980ca-4886-4757-aa78-a5608eb867ee"
      },
      "outputs": [
        {
          "output_type": "stream",
          "name": "stdout",
          "text": [
            "Name: Alice\n",
            "Age: 20\n",
            "Updated Age: 21\n",
            "Invalid name. Name must be a non-empty string.\n",
            "Invalid age. Age must be a positive integer.\n"
          ]
        }
      ],
      "source": [
        "class Student:\n",
        "    def __init__(self, name, age):\n",
        "        self.__name = name  # Private attribute for name\n",
        "        self.__age = age    # Private attribute for age\n",
        "\n",
        "    # Public method to get the name\n",
        "    def get_name(self):\n",
        "        return self.__name\n",
        "\n",
        "    # Public method to set the name with validation\n",
        "    def set_name(self, name):\n",
        "        if isinstance(name, str) and len(name) > 0:\n",
        "            self.__name = name\n",
        "        else:\n",
        "            print(\"Invalid name. Name must be a non-empty string.\")\n",
        "\n",
        "    # Public method to get the age\n",
        "    def get_age(self):\n",
        "        return self.__age\n",
        "\n",
        "    # Public method to set the age with validation\n",
        "    def set_age(self, age):\n",
        "        if isinstance(age, int) and age > 0:\n",
        "            self.__age = age\n",
        "        else:\n",
        "            print(\"Invalid age. Age must be a positive integer.\")\n",
        "\n",
        "# Example usage:\n",
        "student1 = Student(\"Alice\", 20)\n",
        "\n",
        "print(f\"Name: {student1.get_name()}\")\n",
        "print(f\"Age: {student1.get_age()}\")\n",
        "\n",
        "student1.set_age(21)\n",
        "print(f\"Updated Age: {student1.get_age()}\")\n",
        "\n",
        "student1.set_name(\"\") # This will print an error message\n",
        "student1.set_age(-5) # This will print an error message"
      ]
    },
    {
      "cell_type": "code",
      "metadata": {
        "colab": {
          "base_uri": "https://localhost:8080/"
        },
        "id": "83617ab2",
        "outputId": "186a4b7b-4c8e-40c9-b750-ae472c5a56d2"
      },
      "source": [
        "class Student:\n",
        "    def __init__(self, name, age):\n",
        "        self.__name = name  # Private attribute for name\n",
        "        self.__age = age    # Private attribute for age\n",
        "\n",
        "    # Public method to get the name\n",
        "    def get_name(self):\n",
        "        return self.__name\n",
        "\n",
        "    # Public method to set the name with validation\n",
        "    def set_name(self, name):\n",
        "        if isinstance(name, str) and len(name) > 0:\n",
        "            self.__name = name\n",
        "        else:\n",
        "            print(\"Invalid name. Name must be a non-empty string.\")\n",
        "\n",
        "    # Public method to get the age\n",
        "    def get_age(self):\n",
        "        return self.__age\n",
        "\n",
        "    # Public method to set the age with validation\n",
        "    def set_age(self, age):\n",
        "        if isinstance(age, int) and age > 0:\n",
        "            self.__age = age\n",
        "        else:\n",
        "            print(\"Invalid age. Age must be a positive integer.\")\n",
        "\n",
        "# Example usage:\n",
        "student1 = Student(\"Alice\", 20)\n",
        "\n",
        "print(f\"Name: {student1.get_name()}\")\n",
        "print(f\"Age: {student1.get_age()}\")\n",
        "\n",
        "student1.set_age(21)\n",
        "print(f\"Updated Age: {student1.get_age()}\")\n",
        "\n",
        "student1.set_name(\"\") # This will print an error message\n",
        "student1.set_age(-5) # This will print an error message"
      ],
      "execution_count": null,
      "outputs": [
        {
          "output_type": "stream",
          "name": "stdout",
          "text": [
            "Name: Alice\n",
            "Age: 20\n",
            "Updated Age: 21\n",
            "Invalid name. Name must be a non-empty string.\n",
            "Invalid age. Age must be a positive integer.\n"
          ]
        }
      ]
    }
  ]
}